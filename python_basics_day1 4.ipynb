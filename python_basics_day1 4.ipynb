{
  "nbformat": 4,
  "nbformat_minor": 0,
  "metadata": {
    "colab": {
      "provenance": []
    },
    "kernelspec": {
      "name": "python3",
      "display_name": "Python 3"
    },
    "language_info": {
      "name": "python"
    }
  },
  "cells": [
    {
      "cell_type": "code",
      "execution_count": null,
      "metadata": {
        "colab": {
          "base_uri": "https://localhost:8080/"
        },
        "id": "fooBKl8FmcO4",
        "outputId": "3d62b3c6-76df-4f24-9e05-789ee759b431"
      },
      "outputs": [
        {
          "output_type": "stream",
          "name": "stdout",
          "text": [
            "welcome to Python world\n"
          ]
        }
      ],
      "source": [
        "print(\"welcome to Python world\")"
      ]
    },
    {
      "cell_type": "code",
      "source": [
        "s= \"Baba\"\n",
        "print (s[-1::-1])"
      ],
      "metadata": {
        "id": "GEZx-NxVirKW",
        "outputId": "5089751c-49d0-4a21-9bfb-2fa0c3fdfcd4",
        "colab": {
          "base_uri": "https://localhost:8080/"
        }
      },
      "execution_count": null,
      "outputs": [
        {
          "output_type": "stream",
          "name": "stdout",
          "text": [
            "abaB\n"
          ]
        }
      ]
    },
    {
      "cell_type": "code",
      "source": [
        "print (\"Om Sairam\")"
      ],
      "metadata": {
        "colab": {
          "base_uri": "https://localhost:8080/"
        },
        "id": "cpPoe-64yYdt",
        "outputId": "928abeda-5a56-4666-8de0-a07099b9090a"
      },
      "execution_count": null,
      "outputs": [
        {
          "output_type": "stream",
          "name": "stdout",
          "text": [
            "Om Sairam\n"
          ]
        }
      ]
    },
    {
      "cell_type": "code",
      "source": [
        "2+3"
      ],
      "metadata": {
        "colab": {
          "base_uri": "https://localhost:8080/"
        },
        "id": "456iibnZml4b",
        "outputId": "13fdecb9-5cda-46a6-bd11-5df029d8026a"
      },
      "execution_count": null,
      "outputs": [
        {
          "output_type": "execute_result",
          "data": {
            "text/plain": [
              "5"
            ]
          },
          "metadata": {},
          "execution_count": 2
        }
      ]
    },
    {
      "cell_type": "code",
      "source": [
        "a=10\n",
        "print (a)\n",
        "print (id(a))\n",
        "b=10\n",
        "c=10\n",
        "b=20\n",
        "print (id(b))\n",
        "c=b\n",
        "print (id(c))\n",
        "a=b\n",
        "print (id(a))"
      ],
      "metadata": {
        "colab": {
          "base_uri": "https://localhost:8080/"
        },
        "id": "10Jk2mzX8iSj",
        "outputId": "d9ea5875-1e47-4808-94bf-7157f2195c22"
      },
      "execution_count": null,
      "outputs": [
        {
          "output_type": "stream",
          "name": "stdout",
          "text": [
            "10\n",
            "10751144\n",
            "10751464\n",
            "10751464\n",
            "10751464\n"
          ]
        }
      ]
    },
    {
      "cell_type": "code",
      "source": [
        "a=6\n",
        "if (a==5):\n",
        "  print (\"Sai\")\n",
        "print ('Baba')\n"
      ],
      "metadata": {
        "id": "zf29BfJ-oDxN",
        "outputId": "5cc05108-dd06-4e22-be41-179dae645cc3",
        "colab": {
          "base_uri": "https://localhost:8080/"
        }
      },
      "execution_count": null,
      "outputs": [
        {
          "output_type": "stream",
          "name": "stdout",
          "text": [
            "Baba\n"
          ]
        }
      ]
    },
    {
      "cell_type": "code",
      "source": [
        "a=input(\"Enter some Text\")\n",
        "if (a==\"Baba\"):\n",
        "  print (\"Yes it is Baba\")\n",
        "print (\"Sai\")"
      ],
      "metadata": {
        "id": "TSrw_kNvoeVA",
        "outputId": "ef36fe68-6931-4aa2-999f-b1893aa12eb6",
        "colab": {
          "base_uri": "https://localhost:8080/"
        }
      },
      "execution_count": null,
      "outputs": [
        {
          "output_type": "stream",
          "name": "stdout",
          "text": [
            "Enter some TextBaba\n",
            "Yes it is Baba\n",
            "Sai\n"
          ]
        }
      ]
    },
    {
      "cell_type": "code",
      "source": [
        "a=2\n",
        "b=3\n",
        "if (a<b):\n",
        "  print (\"Sai\")\n",
        "#print (\"Baba\")\n",
        "else:\n",
        "  print (\"Sai Baba\")"
      ],
      "metadata": {
        "id": "i8WOaqnjrpUV",
        "outputId": "5b564f01-2b9d-49e6-e503-925d16cdf660",
        "colab": {
          "base_uri": "https://localhost:8080/"
        }
      },
      "execution_count": null,
      "outputs": [
        {
          "output_type": "stream",
          "name": "stdout",
          "text": [
            "Sai\n"
          ]
        }
      ]
    },
    {
      "cell_type": "code",
      "source": [
        "marks= int(input(\"Enter your marks\"))\n",
        "if (marks>=35):\n",
        "  print (\"Pass\")\n",
        "else:\n",
        "  print (\"fail\")"
      ],
      "metadata": {
        "id": "hTSIfROitIDb",
        "outputId": "fb0b96c5-0114-4078-e4dd-50519ab23588",
        "colab": {
          "base_uri": "https://localhost:8080/"
        }
      },
      "execution_count": null,
      "outputs": [
        {
          "output_type": "stream",
          "name": "stdout",
          "text": [
            "Enter your marks23\n",
            "fail\n"
          ]
        }
      ]
    },
    {
      "cell_type": "code",
      "source": [
        "number=int(input(\"enter a number\"))\n",
        "if (number%2==0):\n",
        "  print (\"even\")\n",
        "else:\n",
        "  print (\"odd\")"
      ],
      "metadata": {
        "id": "CofFYT5VtoBF",
        "outputId": "c65d7d93-ace6-40bc-e423-46de8bc2ea93",
        "colab": {
          "base_uri": "https://localhost:8080/"
        }
      },
      "execution_count": null,
      "outputs": [
        {
          "output_type": "stream",
          "name": "stdout",
          "text": [
            "enter a number23\n",
            "odd\n"
          ]
        }
      ]
    },
    {
      "cell_type": "code",
      "source": [
        "score = int (input(\"enter your score\"))\n",
        "if score >=90:\n",
        "  print (\"A\")\n",
        "elif score >=80:\n",
        "  print (\"B\")\n",
        "elif score >=70:\n",
        "  print (\"C\")\n",
        "else:\n",
        "  print (\"D\")"
      ],
      "metadata": {
        "id": "wQLMkDMyvfbq",
        "outputId": "dada4df0-2220-4cf4-c030-278ee34dca95",
        "colab": {
          "base_uri": "https://localhost:8080/"
        }
      },
      "execution_count": null,
      "outputs": [
        {
          "output_type": "stream",
          "name": "stdout",
          "text": [
            "enter your score99\n",
            "A\n"
          ]
        }
      ]
    },
    {
      "cell_type": "code",
      "source": [
        "a= int(input(\"enter number\"))\n",
        "i=1\n",
        "while i<=10:\n",
        "  print (i*a)\n",
        "  i=i+1"
      ],
      "metadata": {
        "id": "FzyOx3S62u37",
        "outputId": "e71c4f70-7a73-45c8-e995-0e41424a0b2b",
        "colab": {
          "base_uri": "https://localhost:8080/"
        }
      },
      "execution_count": null,
      "outputs": [
        {
          "output_type": "stream",
          "name": "stdout",
          "text": [
            "enter number16\n",
            "16\n",
            "32\n",
            "48\n",
            "64\n",
            "80\n",
            "96\n",
            "112\n",
            "128\n",
            "144\n",
            "160\n"
          ]
        }
      ]
    },
    {
      "cell_type": "code",
      "source": [
        "i=1\n",
        "while (i<=100):\n",
        "  if (i%2==1):\n",
        "    print (i)\n",
        "  i=i+1"
      ],
      "metadata": {
        "id": "C2bgq_vw3x7k",
        "outputId": "7c320b5b-71fd-4aba-c24e-2227c92b031d",
        "colab": {
          "base_uri": "https://localhost:8080/"
        }
      },
      "execution_count": null,
      "outputs": [
        {
          "output_type": "stream",
          "name": "stdout",
          "text": [
            "1\n",
            "3\n",
            "5\n",
            "7\n",
            "9\n",
            "11\n",
            "13\n",
            "15\n",
            "17\n",
            "19\n",
            "21\n",
            "23\n",
            "25\n",
            "27\n",
            "29\n",
            "31\n",
            "33\n",
            "35\n",
            "37\n",
            "39\n",
            "41\n",
            "43\n",
            "45\n",
            "47\n",
            "49\n",
            "51\n",
            "53\n",
            "55\n",
            "57\n",
            "59\n",
            "61\n",
            "63\n",
            "65\n",
            "67\n",
            "69\n",
            "71\n",
            "73\n",
            "75\n",
            "77\n",
            "79\n",
            "81\n",
            "83\n",
            "85\n",
            "87\n",
            "89\n",
            "91\n",
            "93\n",
            "95\n",
            "97\n",
            "99\n"
          ]
        }
      ]
    },
    {
      "cell_type": "code",
      "source": [
        "for i in \"Sai Baba\":\n",
        "  print (i);"
      ],
      "metadata": {
        "id": "bKhrsc7O5yXy",
        "outputId": "ced49e00-4204-46f4-9762-2283770202e6",
        "colab": {
          "base_uri": "https://localhost:8080/"
        }
      },
      "execution_count": null,
      "outputs": [
        {
          "output_type": "stream",
          "name": "stdout",
          "text": [
            "S\n",
            "a\n",
            "i\n",
            " \n",
            "B\n",
            "a\n",
            "b\n",
            "a\n"
          ]
        }
      ]
    },
    {
      "cell_type": "code",
      "source": [
        "for i in[1,2,3]:\n",
        "  print (i)"
      ],
      "metadata": {
        "id": "-jLGZllQ6FEe",
        "outputId": "a2d562db-e57b-45d9-b38c-cf4ca79db556",
        "colab": {
          "base_uri": "https://localhost:8080/"
        }
      },
      "execution_count": null,
      "outputs": [
        {
          "output_type": "stream",
          "name": "stdout",
          "text": [
            "1\n",
            "2\n",
            "3\n"
          ]
        }
      ]
    },
    {
      "cell_type": "code",
      "source": [
        "v=['a','e','i','o','u']\n",
        "a= input (\"enter a string\")\n",
        "counter =0\n",
        "for i in a:\n",
        "  if i in v:\n",
        "    counter=counter+1\n",
        "print (counter)\n"
      ],
      "metadata": {
        "id": "YJgSsuet6sdU",
        "outputId": "eedfdb36-1a9c-4713-bc9e-bab38e8ebda6",
        "colab": {
          "base_uri": "https://localhost:8080/"
        }
      },
      "execution_count": null,
      "outputs": [
        {
          "output_type": "stream",
          "name": "stdout",
          "text": [
            "enter a stringHyderabad\n",
            "3\n"
          ]
        }
      ]
    },
    {
      "cell_type": "code",
      "source": [
        "# Reverse string\n",
        "a=\"Hyderabad\"\n",
        "print (a[-1::-1])"
      ],
      "metadata": {
        "id": "5h-vwvFM7_Go",
        "outputId": "16ee3ad0-a20d-42f2-cd2f-4c973e30a0dc",
        "colab": {
          "base_uri": "https://localhost:8080/"
        }
      },
      "execution_count": null,
      "outputs": [
        {
          "output_type": "stream",
          "name": "stdout",
          "text": [
            "dabaredyH\n"
          ]
        }
      ]
    },
    {
      "cell_type": "code",
      "source": [
        "a=\"madam\"\n",
        "b=a[-1::-1]\n",
        "print (b)\n",
        "if (a==b):\n",
        "  print (\"Palindrome\")\n",
        "else:\n",
        "   print (\"Not a Palindrome\")"
      ],
      "metadata": {
        "id": "TFP2i_ni8ZFq",
        "outputId": "f6637bdf-485d-4ea0-82e0-c32697596965",
        "colab": {
          "base_uri": "https://localhost:8080/"
        }
      },
      "execution_count": null,
      "outputs": [
        {
          "output_type": "stream",
          "name": "stdout",
          "text": [
            "madam\n",
            "Palindrome\n"
          ]
        }
      ]
    },
    {
      "cell_type": "code",
      "source": [
        "s=\"I Love Sai Baba\"\n",
        "print (s.split())\n",
        "s=\"Swathi_is_my_wife\"\n",
        "s.split(\"_\")\n",
        "z='Hansini,completed,8th,grade'\n",
        "z.split(',')"
      ],
      "metadata": {
        "id": "iWYigSeaIql_",
        "outputId": "035b52ca-90fa-4c98-a861-dba4518eaa06",
        "colab": {
          "base_uri": "https://localhost:8080/"
        }
      },
      "execution_count": 6,
      "outputs": [
        {
          "output_type": "stream",
          "name": "stdout",
          "text": [
            "['I', 'Love', 'Sai', 'Baba']\n"
          ]
        },
        {
          "output_type": "execute_result",
          "data": {
            "text/plain": [
              "['Hansini', 'completed', '8th', 'grade']"
            ]
          },
          "metadata": {},
          "execution_count": 6
        }
      ]
    },
    {
      "cell_type": "code",
      "source": [
        "s='I was in Noida in 2005'\n",
        "s.split(' ',3)"
      ],
      "metadata": {
        "id": "GB5b4DolJ0H9",
        "outputId": "8f774ba6-1012-4370-ccdf-7e9932a7e779",
        "colab": {
          "base_uri": "https://localhost:8080/"
        }
      },
      "execution_count": 10,
      "outputs": [
        {
          "output_type": "execute_result",
          "data": {
            "text/plain": [
              "['I', 'was', 'in', 'Noida in 2005']"
            ]
          },
          "metadata": {},
          "execution_count": 10
        }
      ]
    },
    {
      "cell_type": "code",
      "source": [
        "# List in Python -\n",
        "h = [1,2,3,'Sai',230211,[9,10,11]]\n",
        "print (h)\n",
        "print (type(h))\n",
        "print (h[0])\n",
        "print (h[::])\n",
        "print (h[::-1])\n",
        "print (h[:4:1])\n",
        "print (h[5][1])\n"
      ],
      "metadata": {
        "id": "J3N08p60O_AN",
        "outputId": "46e2c287-da43-4dea-8c82-1b3e38967f04",
        "colab": {
          "base_uri": "https://localhost:8080/"
        }
      },
      "execution_count": 19,
      "outputs": [
        {
          "output_type": "stream",
          "name": "stdout",
          "text": [
            "[1, 2, 3, 'Sai', 230211, [9, 10, 11]]\n",
            "<class 'list'>\n",
            "1\n",
            "[1, 2, 3, 'Sai', 230211, [9, 10, 11]]\n",
            "[[9, 10, 11], 230211, 'Sai', 3, 2, 1]\n",
            "[1, 2, 3, 'Sai']\n",
            "10\n"
          ]
        }
      ]
    }
  ]
}